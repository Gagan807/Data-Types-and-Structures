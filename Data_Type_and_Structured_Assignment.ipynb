{
  "nbformat": 4,
  "nbformat_minor": 0,
  "metadata": {
    "colab": {
      "provenance": []
    },
    "kernelspec": {
      "name": "python3",
      "display_name": "Python 3"
    },
    "language_info": {
      "name": "python"
    }
  },
  "cells": [
    {
      "cell_type": "markdown",
      "source": [
        "1.What are data structures, and why are they important?\n",
        "\n",
        "Ans:-A data structure is a way of organizing and storing data in a computer so that it can be accessed and used efficiently. It refers to the logical or mathematical representation of data, as well as the implementation in a computer program."
      ],
      "metadata": {
        "id": "Sew0DnMrV2Ai"
      }
    },
    {
      "cell_type": "markdown",
      "source": [
        "2.Explain the difference between mutable and immutable data types with examples?\n",
        "\n",
        "Ans:-Mutable: Mutable data types allow their values to be changed or modified in place after they have been created. Operations like adding, removing, or updating elements directly alter the existing object in memory.\n",
        "\n",
        "        my_set = {1, 2, 3}\n",
        "        my_set.add(4)      # Adds an element\n",
        "        my_set.remove(1)   # Removes an element\n",
        "        print(my_set)      # Output: {2, 3, 4} (order may vary)\n",
        "\n",
        "Immutable: Immutable data types cannot be changed after they are created. Any operation that appears to modify an immutable object actually creates a new object with the desired changes, leaving the original object untouched\n",
        "\n",
        "        my_int = 5\n",
        "        my_int = my_int + 1  # Creates a new integer object with value 6\n",
        "        print(my_int)        # Output: 6\n",
        "\n",
        "\n"
      ],
      "metadata": {
        "id": "E9Jkyk3Slmst"
      }
    },
    {
      "cell_type": "markdown",
      "source": [
        "3.What are the main differences between lists and tuples in Python?\n",
        "\n",
        "Ans:- Lists: are mutable, meaning their elements can be modified (added, removed, or changed) after the list has been created.\n",
        "Tuples: are immutable, meaning their elements cannot be changed once the tuple is created.\n"
      ],
      "metadata": {
        "id": "Z8zTOUBhmRcx"
      }
    },
    {
      "cell_type": "markdown",
      "source": [
        "4.Describe how dictionaries store data\n",
        "\n",
        "Ans:- store data in key-value pairs. Each unique key maps to a specific value, allowing for efficient retrieval of values based on their associated keys.\n"
      ],
      "metadata": {
        "id": "qXncWTVmn04P"
      }
    },
    {
      "cell_type": "markdown",
      "source": [
        "5.Why might you use a set instead of a list in Python?\n",
        "\n",
        "Ans:-Because sets cannot have multiple occurrences of the same element, it makes sets highly useful to efficiently remove duplicate values from a list or tuple and to perform common math operations like unions and intersections.\n",
        "\n"
      ],
      "metadata": {
        "id": "_Aq0bwLPoHU1"
      }
    },
    {
      "cell_type": "markdown",
      "source": [
        "6.What is a string in Python, and how is it different from a list?\n",
        "\n",
        "Ans:-In Python, a string is a sequence of characters, such as letters, numbers, or symbols, enclosed within single quotes ('...') or double quotes (\"...\"). Strings are used to represent textual data.\n",
        "ex:- my_string=\"Gagan\"\n",
        "\n",
        "A list in Python is an ordered and mutable collection of items, enclosed within square brackets ([...]). Lists can contain items of different data types, including numbers, strings, or even other lists.\n",
        "example :- list =[1,2,3,3.5]"
      ],
      "metadata": {
        "id": "Az1HB7T9onnT"
      }
    },
    {
      "cell_type": "markdown",
      "source": [
        "7.How do tuples ensure data integrity in Python?\n",
        "\n",
        "Ans:-Tuples are immutable to ensure that their contents remain constant throughout their lifecycle, guaranteeing data integrity and reliability.\n"
      ],
      "metadata": {
        "id": "LbmojyepqL8O"
      }
    },
    {
      "cell_type": "markdown",
      "source": [
        "8 What is a hash table, and how does it relate to dictionaries in Python?\n",
        "\n",
        "Ans:-A hash table is a data structure that implements an associative array, also known as a dictionary or map. It stores key-value pairs, allowing for efficient retrieval of values based on their corresponding keys. The core principle of a hash table involves using a hash function to convert a key into an index within an array. This index then points to the location where the key-value pair is stored."
      ],
      "metadata": {
        "id": "V0Ql3e6BqSKr"
      }
    },
    {
      "cell_type": "markdown",
      "source": [
        "9.Can lists contain different data types in Python?\n",
        "\n",
        "Ans:-Yes, lists in Python can contain different data types. This is a key feature of Python lists, making them highly flexible.\n",
        "\n"
      ],
      "metadata": {
        "id": "s8D5Kb7Sqgj1"
      }
    },
    {
      "cell_type": "markdown",
      "source": [
        "10.Explain why strings are immutable in Python.\n",
        "\n",
        "Ans:-Python strings are immutable, meaning their content cannot be changed after they are created. Any operation that appears to modify a string, such as concatenation or character replacement, actually results in the creation of a new string object in memory, with the original string remaining unchanged. The variable then points to this new string object."
      ],
      "metadata": {
        "id": "XRhHXyaDqjc7"
      }
    },
    {
      "cell_type": "markdown",
      "source": [
        "11.What advantages do dictionaries offer over lists for certain tasks?\n",
        "\n",
        "Ans:-Dictionaries provide faster lookups compared to lists when searching by key, as they have an average complexity of O(1), while lists require O(n) in the worst case. Lists are faster for index-based access, as retrieving an element by index takes O(1), whereas dictionary lookups require computing a hash."
      ],
      "metadata": {
        "id": "x9NEdJ1pqSF9"
      }
    },
    {
      "cell_type": "markdown",
      "source": [
        "12.Describe a scenario where using a tuple would be preferable over a list.\n",
        "\n",
        "Ans:-Lists are mutable, allowing you to modify their content, while tuples are immutable, meaning you can't change them after creation. You should prefer tuples when you need an immutable sequence, such as function return values or constant data.\n"
      ],
      "metadata": {
        "id": "bPTAM1X7qSBh"
      }
    },
    {
      "cell_type": "markdown",
      "source": [
        "13.How do sets handle duplicate values in Python?\n",
        "\n",
        "Ans:-Sets in Python inherently do not allow duplicate values. They are designed to store only unique elements."
      ],
      "metadata": {
        "id": "yrDPx2aKqR9I"
      }
    },
    {
      "cell_type": "markdown",
      "source": [
        "14.How does the “in” keyword work differently for lists and dictionaries?\n",
        "\n",
        "Ans:-The \"in\" keyword in Python functions differently when used with lists and dictionaries due to their underlying data structures and how they store and retrieve information."
      ],
      "metadata": {
        "id": "_CKkxiuAqR5r"
      }
    },
    {
      "cell_type": "markdown",
      "source": [
        "15.Can you modify the elements of a tuple? Explain why or why not?\n",
        "\n",
        "Ans:-No, the elements of a tuple cannot be modified directly after the tuple has been created. Tuples are immutable data structures in Python. This means that once a tuple is defined, its size and the values of its elements cannot be changed, added, or removed. Attempting to modify an element directly will result in a TypeError.\n"
      ],
      "metadata": {
        "id": "fHmc673GqR2B"
      }
    },
    {
      "cell_type": "markdown",
      "source": [
        "16.What is a nested dictionary, and give an example of its use case?\n",
        "\n",
        "Ans:-A nested dictionary in Python is a dictionary that contains other dictionaries as its values.\n"
      ],
      "metadata": {
        "id": "UcZSp67ZqRyV"
      }
    },
    {
      "cell_type": "markdown",
      "source": [
        "17.Describe the time complexity of accessing elements in a dictionary?\n",
        "Ans:-The time complexity of accessing elements in a dictionary is, on average, O(1), which represents constant time. This means that the time taken to retrieve a value associated with a key does not significantly increase with the size of the dictionary."
      ],
      "metadata": {
        "id": "f_kLeLpfqRvR"
      }
    },
    {
      "cell_type": "markdown",
      "source": [
        "18..In what situations are lists preferred over dictionaries?\n",
        "\n",
        "Ans:If you need an ordered collection, like a sequence of user actions, lists are your go-to. On the other hand, when you need quick look-ups, like mapping usernames to user data, dictionaries are invaluable."
      ],
      "metadata": {
        "id": "oTRSratfqRqz"
      }
    },
    {
      "cell_type": "markdown",
      "source": [
        "19.Why are dictionaries considered unordered, and how does that affect data retrieval?\n",
        "\n",
        "Ans:-Dictionaries are considered unordered because they don't store or retrieve data based on the order in which items are added.\n"
      ],
      "metadata": {
        "id": "30HdMf-PqRmx"
      }
    },
    {
      "cell_type": "markdown",
      "source": [
        "20.Explain the difference between a list and a dictionary in terms of data retrieval.\n",
        "\n",
        "Ans:-A list is an ordered collection of items, whereas a dictionary is an unordered data collection in a key: value pair. Elements from the list can be accessed using the index, while the elements of the dictionary can be accessed using keys.\n",
        "\n",
        "\n",
        "\n"
      ],
      "metadata": {
        "id": "QbmNc-S_qRjE"
      }
    },
    {
      "cell_type": "code",
      "source": [
        "#1.Write a code to create a string with your name and print it?\n",
        "\n",
        "#Ans:-\n",
        "name =\"Gagan\"\n",
        "print(name)"
      ],
      "metadata": {
        "colab": {
          "base_uri": "https://localhost:8080/"
        },
        "id": "7aV4smLpi8kd",
        "outputId": "e8c99dc7-4d18-49e1-fe25-13a590f09421"
      },
      "execution_count": 2,
      "outputs": [
        {
          "output_type": "stream",
          "name": "stdout",
          "text": [
            "Gagan\n"
          ]
        }
      ]
    },
    {
      "cell_type": "code",
      "source": [
        "#2.Write a code to find the length of the string \"Hello World\".\n",
        "#Ans:-\n",
        "Str=\"Hello World\"\n",
        "print(len(Str))\n"
      ],
      "metadata": {
        "colab": {
          "base_uri": "https://localhost:8080/"
        },
        "id": "MaHWoazUjVLQ",
        "outputId": "0c9f9a27-9aba-4f7e-90cd-eb48e48a15fa"
      },
      "execution_count": 4,
      "outputs": [
        {
          "output_type": "stream",
          "name": "stdout",
          "text": [
            "11\n"
          ]
        }
      ]
    },
    {
      "cell_type": "code",
      "source": [
        "#3.write a code to slice the first 3 character from the string \"Python Programming\".\n",
        "#Ans:-\n",
        "str=\"Python Programming\"\n",
        "print(str[0:3])"
      ],
      "metadata": {
        "colab": {
          "base_uri": "https://localhost:8080/"
        },
        "id": "CUzSITWyjpZi",
        "outputId": "5371b05f-6f33-466e-9467-9ec9450d2888"
      },
      "execution_count": 6,
      "outputs": [
        {
          "output_type": "stream",
          "name": "stdout",
          "text": [
            "Pyt\n"
          ]
        }
      ]
    },
    {
      "cell_type": "code",
      "source": [
        "#4.Write a code to convert the string \"hello\" to uppercase.\n",
        "#Ans:-\n",
        "str =\"hello\"\n",
        "print(str.upper())\n"
      ],
      "metadata": {
        "colab": {
          "base_uri": "https://localhost:8080/"
        },
        "id": "fOhugiC1jpTE",
        "outputId": "a8c25c17-b3a7-438c-f50d-df09c24be728"
      },
      "execution_count": 7,
      "outputs": [
        {
          "output_type": "stream",
          "name": "stdout",
          "text": [
            "HELLO\n"
          ]
        }
      ]
    },
    {
      "cell_type": "code",
      "source": [
        "#5.Write a code to replace the word \"apple\" with \"orange\" in the string \"I like apple\".\n",
        "#Ans:-\n",
        "str = \"I like apple\"\n",
        "print(str.replace(\"apple\",\"orange \"))\n"
      ],
      "metadata": {
        "colab": {
          "base_uri": "https://localhost:8080/"
        },
        "id": "nsh_x556jpMS",
        "outputId": "45b60dc7-ac69-4565-8716-684603eeb8aa"
      },
      "execution_count": 8,
      "outputs": [
        {
          "output_type": "stream",
          "name": "stdout",
          "text": [
            "I like orange\n"
          ]
        }
      ]
    },
    {
      "cell_type": "code",
      "source": [
        "#6.Write a code to create a list with numbers 1 to 5 and print it.\n",
        "#Ans:-\n",
        "l=[]\n",
        "for i in range(1,6):\n",
        "  l.append(i)\n",
        "print(l)\n"
      ],
      "metadata": {
        "colab": {
          "base_uri": "https://localhost:8080/"
        },
        "id": "Z6zYyG7xjpGn",
        "outputId": "a067e806-8440-413b-f853-703bef830fb6"
      },
      "execution_count": 12,
      "outputs": [
        {
          "output_type": "stream",
          "name": "stdout",
          "text": [
            "[1, 2, 3, 4, 5]\n"
          ]
        }
      ]
    },
    {
      "cell_type": "code",
      "source": [
        "#7.Write a code to append the number 10 to the list [1, 2, 3, 4].\n",
        "#Ans:-\n",
        "list =[1,2,3,4]\n",
        "list.append(10)\n",
        "print(list)\n"
      ],
      "metadata": {
        "colab": {
          "base_uri": "https://localhost:8080/"
        },
        "id": "h4f_K8g-jpAv",
        "outputId": "af160e75-a880-4fa7-bab5-a41711a6d215"
      },
      "execution_count": 15,
      "outputs": [
        {
          "output_type": "stream",
          "name": "stdout",
          "text": [
            "[1, 2, 3, 4, 10]\n"
          ]
        }
      ]
    },
    {
      "cell_type": "code",
      "source": [
        "#8.Write a code to remove the number 3 from the list [1, 2, 3, 4, 5].\n",
        "#Ans:-\n",
        "list = [1,2,3,4,5]\n",
        "list.remove(3)\n",
        "print(list)"
      ],
      "metadata": {
        "colab": {
          "base_uri": "https://localhost:8080/"
        },
        "id": "MXPvkUErjo36",
        "outputId": "f8e690ea-c976-4b12-fe03-5aabfd95ecb7"
      },
      "execution_count": 16,
      "outputs": [
        {
          "output_type": "stream",
          "name": "stdout",
          "text": [
            "[1, 2, 4, 5]\n"
          ]
        }
      ]
    },
    {
      "cell_type": "code",
      "source": [
        "#9.Write a code to access the second element in the list ['a', 'b', 'c', 'd'].\n",
        "#Ans:-\n",
        "list = ['a','b','c','d']\n",
        "print(list[1])\n"
      ],
      "metadata": {
        "colab": {
          "base_uri": "https://localhost:8080/"
        },
        "id": "-Gou5EfZmKhl",
        "outputId": "1b3e9658-0673-482b-88ce-b1f3bb153316"
      },
      "execution_count": 17,
      "outputs": [
        {
          "output_type": "stream",
          "name": "stdout",
          "text": [
            "b\n"
          ]
        }
      ]
    },
    {
      "cell_type": "code",
      "source": [
        "#10.Write a code to reverse the list [10, 20, 30, 40, 50].\n",
        "#Ans:-\n",
        "list = [10,20,30,40,50]\n",
        "list.reverse()\n",
        "print(list)"
      ],
      "metadata": {
        "colab": {
          "base_uri": "https://localhost:8080/"
        },
        "id": "5-RamY6ImKe_",
        "outputId": "b39f7628-1bb5-49d6-c5cf-113a3ad29bbd"
      },
      "execution_count": 18,
      "outputs": [
        {
          "output_type": "stream",
          "name": "stdout",
          "text": [
            "[50, 40, 30, 20, 10]\n"
          ]
        }
      ]
    },
    {
      "cell_type": "code",
      "source": [
        "#11.Write a code to create a tuple with the elements 100, 200, 300 and print it.\n",
        "#Ans:-\n",
        "tuple = (100,200,300)\n",
        "print(tuple)\n"
      ],
      "metadata": {
        "colab": {
          "base_uri": "https://localhost:8080/"
        },
        "id": "DTJyoa6Zjox3",
        "outputId": "3c5f5dd8-ea59-41d9-ac04-071c99cad7eb"
      },
      "execution_count": 19,
      "outputs": [
        {
          "output_type": "stream",
          "name": "stdout",
          "text": [
            "(100, 200, 300)\n"
          ]
        }
      ]
    },
    {
      "cell_type": "code",
      "source": [
        "#12.Write a code to access the second-to-last element of the tuple ('red', 'green', 'blue', 'yellow').\n",
        "#Ans:-\n",
        "tuple = ('red','green','blue','yellow')\n",
        "print(tuple[-2])"
      ],
      "metadata": {
        "colab": {
          "base_uri": "https://localhost:8080/"
        },
        "id": "hCmxp_CHjor-",
        "outputId": "a6b2cff6-a2f1-4555-a69f-49e1393223f8"
      },
      "execution_count": 20,
      "outputs": [
        {
          "output_type": "stream",
          "name": "stdout",
          "text": [
            "blue\n"
          ]
        }
      ]
    },
    {
      "cell_type": "code",
      "source": [
        "#13.Write a code to find the minimum number in the tuple (10, 20, 5, 15).\n",
        "#Ans:-\n",
        "tuple = (10,20,5,15)\n",
        "print(min(tuple))"
      ],
      "metadata": {
        "colab": {
          "base_uri": "https://localhost:8080/"
        },
        "id": "0iPjy6UAjomS",
        "outputId": "4c1d7c14-03b8-4dc7-d802-d931e0ccbc01"
      },
      "execution_count": 21,
      "outputs": [
        {
          "output_type": "stream",
          "name": "stdout",
          "text": [
            "5\n"
          ]
        }
      ]
    },
    {
      "cell_type": "code",
      "source": [
        "#14.Write a code to find the index of the element \"cat\" in the tuple ('dog', 'cat', 'rabbit').\n",
        "#Ans:-\n",
        "tuple =('dog', 'cat', 'rabbit')\n",
        "print(tuple.index('cat'))"
      ],
      "metadata": {
        "colab": {
          "base_uri": "https://localhost:8080/"
        },
        "id": "dyJ3pvHmjoga",
        "outputId": "1df04333-34ef-4aa1-d436-8f330af8324d"
      },
      "execution_count": 22,
      "outputs": [
        {
          "output_type": "stream",
          "name": "stdout",
          "text": [
            "1\n"
          ]
        }
      ]
    },
    {
      "cell_type": "code",
      "source": [
        "#15 Write a code to create a tuple containing three different fruits and check if \"kiwi\" is in it.\n",
        "#Ans:-\n",
        "tuple = (\"apple\",\"banana\",\"kiwi\")\n",
        "print(\"kiwi\" in tuple)"
      ],
      "metadata": {
        "colab": {
          "base_uri": "https://localhost:8080/"
        },
        "id": "ZrHqj35XjoaS",
        "outputId": "7ef439b7-9bc6-491e-fa82-27bd325f0d4d"
      },
      "execution_count": 23,
      "outputs": [
        {
          "output_type": "stream",
          "name": "stdout",
          "text": [
            "True\n"
          ]
        }
      ]
    },
    {
      "cell_type": "code",
      "source": [
        "#16.Write a code to create a set with the elements 'a', 'b', 'c' and print it.\n",
        "#Ans:-\n",
        "set = {'a','b','c'}\n",
        "print(set)"
      ],
      "metadata": {
        "colab": {
          "base_uri": "https://localhost:8080/"
        },
        "id": "xEw102YAjoUw",
        "outputId": "06915d6f-e06e-49a3-d3d6-9cfdd058ad14"
      },
      "execution_count": 24,
      "outputs": [
        {
          "output_type": "stream",
          "name": "stdout",
          "text": [
            "{'c', 'a', 'b'}\n"
          ]
        }
      ]
    },
    {
      "cell_type": "code",
      "source": [
        "#17. Write a code to clear all elements from the set {1, 2, 3, 4, 5}.\n",
        "#Ans:-\n",
        "set = {1,2,3,4,5}\n",
        "set.clear()\n",
        "set"
      ],
      "metadata": {
        "colab": {
          "base_uri": "https://localhost:8080/"
        },
        "id": "3ysqgSS-joPO",
        "outputId": "4099bc8b-9514-4982-d181-40fdf3f33fca"
      },
      "execution_count": 27,
      "outputs": [
        {
          "output_type": "execute_result",
          "data": {
            "text/plain": [
              "set()"
            ]
          },
          "metadata": {},
          "execution_count": 27
        }
      ]
    },
    {
      "cell_type": "code",
      "source": [
        "#18. Write a code to remove the element 4 from the set {1, 2, 3, 4}.\n",
        "#Ans:-\n",
        "set = {1,2,3,4}\n",
        "set.remove(4)\n",
        "print(set)"
      ],
      "metadata": {
        "colab": {
          "base_uri": "https://localhost:8080/"
        },
        "id": "DPrgHuVejoJ4",
        "outputId": "314a6cb1-9ede-45bb-a88b-87ac4283e645"
      },
      "execution_count": 28,
      "outputs": [
        {
          "output_type": "stream",
          "name": "stdout",
          "text": [
            "{1, 2, 3}\n"
          ]
        }
      ]
    },
    {
      "cell_type": "code",
      "source": [
        "#19. Write a code to find the union of two sets {1, 2, 3} and {3, 4, 5}.\n",
        "#Ans:-\n",
        "set1 = {1,2,3}\n",
        "set2 = {3,4,5}\n",
        "print(set1.union(set2))\n"
      ],
      "metadata": {
        "colab": {
          "base_uri": "https://localhost:8080/"
        },
        "id": "8cXpZfpkjoE8",
        "outputId": "54928d22-406b-4d69-a817-0715cef22bb5"
      },
      "execution_count": 29,
      "outputs": [
        {
          "output_type": "stream",
          "name": "stdout",
          "text": [
            "{1, 2, 3, 4, 5}\n"
          ]
        }
      ]
    },
    {
      "cell_type": "code",
      "source": [
        "#20. Write a code to find the intersection of two sets {1, 2, 3} and {2, 3, 4}.\n",
        "#Ans:-\n",
        "set1 = {1,2,3}\n",
        "set2 = {2,3,4}\n",
        "print(set1.intersection(set2))"
      ],
      "metadata": {
        "colab": {
          "base_uri": "https://localhost:8080/"
        },
        "id": "r7a5BlDUjn_s",
        "outputId": "d194b0c7-f60f-4026-e1b5-5d0fda041418"
      },
      "execution_count": 30,
      "outputs": [
        {
          "output_type": "stream",
          "name": "stdout",
          "text": [
            "{2, 3}\n"
          ]
        }
      ]
    },
    {
      "cell_type": "code",
      "source": [
        "#21. Write a code to create a dictionary with the keys \"name\", \"age\", and \"city\", and print it.\n",
        "#Ans:-\n",
        "dict = {\"name\" :\"Gagan\",\n",
        "        \"age\":23,\n",
        "        \"city\":\"Mathura\"\n",
        "        }\n",
        "print(dict)"
      ],
      "metadata": {
        "colab": {
          "base_uri": "https://localhost:8080/"
        },
        "id": "oA0G9bMVjn6c",
        "outputId": "3b012e8a-cd38-4426-dee2-ea0f9e177ee6"
      },
      "execution_count": 33,
      "outputs": [
        {
          "output_type": "stream",
          "name": "stdout",
          "text": [
            "{'name': 'Gagan', 'age': 23, 'city': 'Mathura'}\n"
          ]
        }
      ]
    },
    {
      "cell_type": "code",
      "source": [
        "#22. Write a code to add a new key-value pair \"country\": \"USA\" to the dictionary {'name': 'John', 'age': 25}.\n",
        "#Ans:-\n",
        "dict = {\"name\" :\"Gagan\",\n",
        "        \"age\":23,\n",
        "        \"city\":\"Mathura\"\n",
        "        }\n",
        "dict[\"country\"]=\"USA\"\n",
        "dict"
      ],
      "metadata": {
        "colab": {
          "base_uri": "https://localhost:8080/"
        },
        "id": "cYvkfDX6jn1l",
        "outputId": "eac410fb-a0b2-4232-f471-300cd6f90831"
      },
      "execution_count": 35,
      "outputs": [
        {
          "output_type": "execute_result",
          "data": {
            "text/plain": [
              "{'name': 'Gagan', 'age': 23, 'city': 'Mathura', 'country': 'USA'}"
            ]
          },
          "metadata": {},
          "execution_count": 35
        }
      ]
    },
    {
      "cell_type": "code",
      "source": [
        "#23. Write a code to access the value associated with the key \"name\" in the dictionary {'name': 'Alice', 'age': 30}.\n",
        "#Ans:-\n",
        "dict = {\"name\" :\"Gagan\",\n",
        "        \"age\":32}\n",
        "print(dict[\"name\"])\n"
      ],
      "metadata": {
        "colab": {
          "base_uri": "https://localhost:8080/"
        },
        "id": "8mVExXlwjnwe",
        "outputId": "b5ac9941-96f0-4211-fd8f-1b054c862b57"
      },
      "execution_count": 36,
      "outputs": [
        {
          "output_type": "stream",
          "name": "stdout",
          "text": [
            "Gagan\n"
          ]
        }
      ]
    },
    {
      "cell_type": "code",
      "source": [
        "#24. Write a code to remove the key \"age\" from the dictionary {'name': 'Bob', 'age': 22, 'city': 'New York'}.\n",
        "#Ans:-\n",
        "dict = {'name': 'Bob', 'age': 22, 'city': 'New York'}\n",
        "dict.pop(\"age\")\n",
        "dict"
      ],
      "metadata": {
        "colab": {
          "base_uri": "https://localhost:8080/"
        },
        "id": "xdU0sly5jnro",
        "outputId": "ce1f6a97-fb01-4e28-a048-211c53242bcb"
      },
      "execution_count": 37,
      "outputs": [
        {
          "output_type": "execute_result",
          "data": {
            "text/plain": [
              "{'name': 'Bob', 'city': 'New York'}"
            ]
          },
          "metadata": {},
          "execution_count": 37
        }
      ]
    },
    {
      "cell_type": "code",
      "source": [
        "#25. Write a code to check if the key \"city\" exists in the dictionary {'name': 'Alice', 'city': 'Paris'}.\n",
        "#Ans:-\n",
        "dict = {'name': 'Alice', 'city': 'Paris'}\n",
        "print(\"city\" in dict)"
      ],
      "metadata": {
        "colab": {
          "base_uri": "https://localhost:8080/"
        },
        "id": "hrkz1Ckkrm2Q",
        "outputId": "74443223-4256-477f-ac2e-cc127805c451"
      },
      "execution_count": 38,
      "outputs": [
        {
          "output_type": "stream",
          "name": "stdout",
          "text": [
            "True\n"
          ]
        }
      ]
    },
    {
      "cell_type": "code",
      "source": [
        "#26. Write a code to create a list, a tuple, and a dictionary, and print them all.\n",
        "#Ans:-\n",
        "list = [1,2,3,4]\n",
        "print(list)\n",
        "tuple = (1,2,3,4)\n",
        "print(tuple)\n",
        "dict = {\"name\":\"Gagan\",\n",
        "        \"age\":23}\n",
        "print(dict)"
      ],
      "metadata": {
        "colab": {
          "base_uri": "https://localhost:8080/"
        },
        "id": "h0BjBNPZryOM",
        "outputId": "1e33d900-0b2c-4ed8-d255-933bb3dacfa9"
      },
      "execution_count": 39,
      "outputs": [
        {
          "output_type": "stream",
          "name": "stdout",
          "text": [
            "[1, 2, 3, 4]\n",
            "(1, 2, 3, 4)\n",
            "{'name': 'Gagan', 'age': 23}\n"
          ]
        }
      ]
    },
    {
      "cell_type": "code",
      "source": [
        "#27. Write a code to create a list of 5 random numbers between 1 and 100, sort it in ascending order, and print the\n",
        "#result.(replaced)\n",
        "#Ans:-\n",
        "import random\n",
        "list = []\n",
        "for i in range(5):\n",
        "  list.append(random.randint(1,100))\n",
        "list.sort()\n",
        "print(list)"
      ],
      "metadata": {
        "colab": {
          "base_uri": "https://localhost:8080/"
        },
        "id": "nsX0o3yOsmla",
        "outputId": "ba5e69c6-4c10-4f7a-a75b-67cddaa14ebf"
      },
      "execution_count": 40,
      "outputs": [
        {
          "output_type": "stream",
          "name": "stdout",
          "text": [
            "[20, 22, 23, 61, 98]\n"
          ]
        }
      ]
    },
    {
      "cell_type": "code",
      "source": [
        "#28. Write a code to create a list with strings and print the element at the third index.\n",
        "#Ans:-\n",
        "list =[1,2,3,\"Gagan\",\"Jugal\",5,6]\n",
        "print(list[3])"
      ],
      "metadata": {
        "colab": {
          "base_uri": "https://localhost:8080/"
        },
        "id": "qSVBiu82jnmw",
        "outputId": "a6131458-5b46-4aab-d406-8c2cc80ffe62"
      },
      "execution_count": 41,
      "outputs": [
        {
          "output_type": "stream",
          "name": "stdout",
          "text": [
            "Gagan\n"
          ]
        }
      ]
    },
    {
      "cell_type": "code",
      "source": [
        "#29. Write a code to combine two dictionaries into one and print the result.\n",
        "#Ans:-\n",
        "dict1 ={\"name\":\"gagan\",\n",
        "        \"age\":23}\n",
        "dict2 ={\"city\":\"Mathura\",\n",
        "        \"weight\":70}\n",
        "dict1.update(dict2)\n",
        "dict1"
      ],
      "metadata": {
        "colab": {
          "base_uri": "https://localhost:8080/"
        },
        "id": "ViZjjMByjnhX",
        "outputId": "bbc8c9c8-fcc7-4636-a227-0be0ff1dfb8c"
      },
      "execution_count": 48,
      "outputs": [
        {
          "output_type": "execute_result",
          "data": {
            "text/plain": [
              "{'name': 'gagan', 'age': 23, 'city': 'Mathura', 'weight': 70}"
            ]
          },
          "metadata": {},
          "execution_count": 48
        }
      ]
    },
    {
      "cell_type": "code",
      "source": [
        "#30. Write a code to convert a list of strings into a set.\n",
        "#Ans:-\n",
        "my_list = [\"apple\",\"banana\",\"kiwi\"]\n",
        "my_list = set(my_list)\n",
        "print(my_list)"
      ],
      "metadata": {
        "colab": {
          "base_uri": "https://localhost:8080/",
          "height": 193
        },
        "collapsed": true,
        "id": "50R90WH-jndU",
        "outputId": "6841f57c-e08b-4702-f236-6294266d8a87"
      },
      "execution_count": 58,
      "outputs": [
        {
          "output_type": "error",
          "ename": "TypeError",
          "evalue": "'set' object is not callable",
          "traceback": [
            "\u001b[0;31m---------------------------------------------------------------------------\u001b[0m",
            "\u001b[0;31mTypeError\u001b[0m                                 Traceback (most recent call last)",
            "\u001b[0;32m/tmp/ipython-input-58-1534803249.py\u001b[0m in \u001b[0;36m<cell line: 0>\u001b[0;34m()\u001b[0m\n\u001b[1;32m      2\u001b[0m \u001b[0;31m#Ans:-\u001b[0m\u001b[0;34m\u001b[0m\u001b[0;34m\u001b[0m\u001b[0m\n\u001b[1;32m      3\u001b[0m \u001b[0mmy_list\u001b[0m \u001b[0;34m=\u001b[0m \u001b[0;34m[\u001b[0m\u001b[0;34m\"apple\"\u001b[0m\u001b[0;34m,\u001b[0m\u001b[0;34m\"banana\"\u001b[0m\u001b[0;34m,\u001b[0m\u001b[0;34m\"kiwi\"\u001b[0m\u001b[0;34m]\u001b[0m\u001b[0;34m\u001b[0m\u001b[0;34m\u001b[0m\u001b[0m\n\u001b[0;32m----> 4\u001b[0;31m \u001b[0mmy_list\u001b[0m \u001b[0;34m=\u001b[0m \u001b[0mset\u001b[0m\u001b[0;34m(\u001b[0m\u001b[0mmy_list\u001b[0m\u001b[0;34m)\u001b[0m\u001b[0;34m\u001b[0m\u001b[0;34m\u001b[0m\u001b[0m\n\u001b[0m\u001b[1;32m      5\u001b[0m \u001b[0mprint\u001b[0m\u001b[0;34m(\u001b[0m\u001b[0mmy_list\u001b[0m\u001b[0;34m)\u001b[0m\u001b[0;34m\u001b[0m\u001b[0;34m\u001b[0m\u001b[0m\n",
            "\u001b[0;31mTypeError\u001b[0m: 'set' object is not callable"
          ]
        }
      ]
    },
    {
      "cell_type": "code",
      "source": [],
      "metadata": {
        "id": "fdx02jfCjnYS"
      },
      "execution_count": null,
      "outputs": []
    },
    {
      "cell_type": "code",
      "source": [],
      "metadata": {
        "id": "_7viCQDxjnSS"
      },
      "execution_count": null,
      "outputs": []
    },
    {
      "cell_type": "code",
      "source": [],
      "metadata": {
        "id": "E7AqeU7cjnMN"
      },
      "execution_count": null,
      "outputs": []
    },
    {
      "cell_type": "code",
      "source": [],
      "metadata": {
        "id": "GKR95AxsjnF5"
      },
      "execution_count": null,
      "outputs": []
    },
    {
      "cell_type": "code",
      "source": [],
      "metadata": {
        "id": "0GBEZjaqjm5o"
      },
      "execution_count": null,
      "outputs": []
    }
  ]
}